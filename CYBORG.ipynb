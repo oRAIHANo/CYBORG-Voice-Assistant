{
 "cells": [
  {
   "cell_type": "code",
   "execution_count": 1,
   "id": "05503b06",
   "metadata": {},
   "outputs": [
    {
     "name": "stdout",
     "output_type": "stream",
     "text": [
      "Defaulting to user installation because normal site-packages is not writeable\n",
      "Requirement already satisfied: SpeechRecognition in c:\\users\\raihan\\appdata\\roaming\\python\\python39\\site-packages (3.9.0)\n",
      "Requirement already satisfied: requests>=2.26.0 in e:\\anaconda\\lib\\site-packages (from SpeechRecognition) (2.28.1)\n",
      "Requirement already satisfied: certifi>=2017.4.17 in e:\\anaconda\\lib\\site-packages (from requests>=2.26.0->SpeechRecognition) (2022.9.14)\n",
      "Requirement already satisfied: charset-normalizer<3,>=2 in e:\\anaconda\\lib\\site-packages (from requests>=2.26.0->SpeechRecognition) (2.0.4)\n",
      "Requirement already satisfied: idna<4,>=2.5 in e:\\anaconda\\lib\\site-packages (from requests>=2.26.0->SpeechRecognition) (3.3)\n",
      "Requirement already satisfied: urllib3<1.27,>=1.21.1 in e:\\anaconda\\lib\\site-packages (from requests>=2.26.0->SpeechRecognition) (1.26.11)\n"
     ]
    }
   ],
   "source": [
    "!pip install SpeechRecognition"
   ]
  },
  {
   "cell_type": "code",
   "execution_count": 2,
   "id": "4c90b011",
   "metadata": {},
   "outputs": [
    {
     "name": "stdout",
     "output_type": "stream",
     "text": [
      "Defaulting to user installation because normal site-packages is not writeable\n",
      "Requirement already satisfied: pyttsx3 in c:\\users\\raihan\\appdata\\roaming\\python\\python39\\site-packages (2.90)\n",
      "Requirement already satisfied: pywin32 in e:\\anaconda\\lib\\site-packages (from pyttsx3) (302)\n",
      "Requirement already satisfied: pypiwin32 in c:\\users\\raihan\\appdata\\roaming\\python\\python39\\site-packages (from pyttsx3) (223)\n",
      "Requirement already satisfied: comtypes in e:\\anaconda\\lib\\site-packages (from pyttsx3) (1.1.10)\n"
     ]
    }
   ],
   "source": [
    "!pip install pyttsx3"
   ]
  },
  {
   "cell_type": "code",
   "execution_count": 3,
   "id": "e27e5b5d",
   "metadata": {},
   "outputs": [
    {
     "name": "stdout",
     "output_type": "stream",
     "text": [
      "Defaulting to user installation because normal site-packages is not writeable\n",
      "Requirement already satisfied: wikipedia in c:\\users\\raihan\\appdata\\roaming\\python\\python39\\site-packages (1.4.0)\n",
      "Requirement already satisfied: requests<3.0.0,>=2.0.0 in e:\\anaconda\\lib\\site-packages (from wikipedia) (2.28.1)\n",
      "Requirement already satisfied: beautifulsoup4 in e:\\anaconda\\lib\\site-packages (from wikipedia) (4.11.1)\n",
      "Requirement already satisfied: urllib3<1.27,>=1.21.1 in e:\\anaconda\\lib\\site-packages (from requests<3.0.0,>=2.0.0->wikipedia) (1.26.11)\n",
      "Requirement already satisfied: idna<4,>=2.5 in e:\\anaconda\\lib\\site-packages (from requests<3.0.0,>=2.0.0->wikipedia) (3.3)\n",
      "Requirement already satisfied: certifi>=2017.4.17 in e:\\anaconda\\lib\\site-packages (from requests<3.0.0,>=2.0.0->wikipedia) (2022.9.14)\n",
      "Requirement already satisfied: charset-normalizer<3,>=2 in e:\\anaconda\\lib\\site-packages (from requests<3.0.0,>=2.0.0->wikipedia) (2.0.4)\n",
      "Requirement already satisfied: soupsieve>1.2 in e:\\anaconda\\lib\\site-packages (from beautifulsoup4->wikipedia) (2.3.1)\n"
     ]
    }
   ],
   "source": [
    "!pip install wikipedia"
   ]
  },
  {
   "cell_type": "code",
   "execution_count": 4,
   "id": "26e470d1",
   "metadata": {},
   "outputs": [
    {
     "name": "stdout",
     "output_type": "stream",
     "text": [
      "Defaulting to user installation because normal site-packages is not writeable\n",
      "Requirement already satisfied: PyAutoGUI in c:\\users\\raihan\\appdata\\roaming\\python\\python39\\site-packages (0.9.53)\n",
      "Requirement already satisfied: mouseinfo in c:\\users\\raihan\\appdata\\roaming\\python\\python39\\site-packages (from PyAutoGUI) (0.1.3)\n",
      "Requirement already satisfied: PyTweening>=1.0.1 in c:\\users\\raihan\\appdata\\roaming\\python\\python39\\site-packages (from PyAutoGUI) (1.0.4)\n",
      "Requirement already satisfied: pygetwindow>=0.0.5 in c:\\users\\raihan\\appdata\\roaming\\python\\python39\\site-packages (from PyAutoGUI) (0.0.9)\n",
      "Requirement already satisfied: pyscreeze>=0.1.21 in c:\\users\\raihan\\appdata\\roaming\\python\\python39\\site-packages (from PyAutoGUI) (0.1.28)\n",
      "Requirement already satisfied: pymsgbox in c:\\users\\raihan\\appdata\\roaming\\python\\python39\\site-packages (from PyAutoGUI) (1.0.9)\n",
      "Requirement already satisfied: pyrect in c:\\users\\raihan\\appdata\\roaming\\python\\python39\\site-packages (from pygetwindow>=0.0.5->PyAutoGUI) (0.2.0)\n",
      "Requirement already satisfied: pyperclip in c:\\users\\raihan\\appdata\\roaming\\python\\python39\\site-packages (from mouseinfo->PyAutoGUI) (1.8.2)\n"
     ]
    }
   ],
   "source": [
    "!pip install PyAutoGUI"
   ]
  },
  {
   "cell_type": "code",
   "execution_count": 5,
   "id": "98cdca99",
   "metadata": {},
   "outputs": [
    {
     "name": "stdout",
     "output_type": "stream",
     "text": [
      "Defaulting to user installation because normal site-packages is not writeable\n",
      "Requirement already satisfied: winshell in c:\\users\\raihan\\appdata\\roaming\\python\\python39\\site-packages (0.6)\n"
     ]
    }
   ],
   "source": [
    "!pip install winshell"
   ]
  },
  {
   "cell_type": "code",
   "execution_count": 6,
   "id": "f9349835",
   "metadata": {},
   "outputs": [
    {
     "name": "stdout",
     "output_type": "stream",
     "text": [
      "Defaulting to user installation because normal site-packages is not writeable\n",
      "Requirement already satisfied: pyjokes in c:\\users\\raihan\\appdata\\roaming\\python\\python39\\site-packages (0.6.0)\n"
     ]
    }
   ],
   "source": [
    "!pip install pyjokes"
   ]
  },
  {
   "cell_type": "code",
   "execution_count": 7,
   "id": "c632983b",
   "metadata": {},
   "outputs": [
    {
     "name": "stdout",
     "output_type": "stream",
     "text": [
      "Defaulting to user installation because normal site-packages is not writeable\n",
      "Requirement already satisfied: appopener in c:\\users\\raihan\\appdata\\roaming\\python\\python39\\site-packages (1.6)\n",
      "Requirement already satisfied: wheel in e:\\anaconda\\lib\\site-packages (from appopener) (0.37.1)\n",
      "Requirement already satisfied: psutil in e:\\anaconda\\lib\\site-packages (from appopener) (5.9.0)\n"
     ]
    }
   ],
   "source": [
    "!pip install appopener"
   ]
  },
  {
   "cell_type": "code",
   "execution_count": 8,
   "id": "db2574ae",
   "metadata": {},
   "outputs": [
    {
     "name": "stdout",
     "output_type": "stream",
     "text": [
      "Defaulting to user installation because normal site-packages is not writeable\n",
      "Requirement already satisfied: PyAudio in c:\\users\\raihan\\appdata\\roaming\\python\\python39\\site-packages (0.2.13)\n"
     ]
    }
   ],
   "source": [
    "!pip install PyAudio"
   ]
  },
  {
   "cell_type": "code",
   "execution_count": 9,
   "id": "67572e34",
   "metadata": {},
   "outputs": [],
   "source": [
    "import speech_recognition as sr\n",
    "import pyttsx3\n",
    "import time\n",
    "import datetime\n",
    "import calendar\n",
    "import wikipedia\n",
    "import webbrowser\n",
    "import os\n",
    "import requests\n",
    "import json\n",
    "import pyautogui\n",
    "import sys\n",
    "import cv2\n",
    "import tkinter as tk\n",
    "import psutil\n",
    "import winshell\n",
    "import pyjokes"
   ]
  },
  {
   "cell_type": "code",
   "execution_count": 10,
   "id": "b5e685fa",
   "metadata": {},
   "outputs": [],
   "source": [
    "from AppOpener import run\n",
    "from urllib.request import urlopen\n",
    "# Used for wheather\n",
    "from bs4 import BeautifulSoup\n",
    "# Used to take screenshot\n",
    "from tkinter.filedialog import *"
   ]
  },
  {
   "cell_type": "code",
   "execution_count": 11,
   "id": "e526aa7b",
   "metadata": {},
   "outputs": [],
   "source": [
    "engine = pyttsx3.init('sapi5')\n",
    "voices = engine.getProperty('voices')\n",
    "engine.setProperty('voice',voices[0].id)\n",
    "# engine.setProperty('rate',250)\n",
    "# print(voices[0].id)\n",
    "# print(voices[1].id)"
   ]
  },
  {
   "cell_type": "code",
   "execution_count": 12,
   "id": "3ce8f8af",
   "metadata": {},
   "outputs": [],
   "source": [
    "def speak(audio):\n",
    "    engine.say(audio)\n",
    "    engine.runAndWait()"
   ]
  },
  {
   "cell_type": "code",
   "execution_count": 13,
   "id": "f9d576d5",
   "metadata": {},
   "outputs": [],
   "source": [
    "def engine_listen():\n",
    "    r = sr.Recognizer()\n",
    "    \n",
    "    with sr.Microphone() as source:\n",
    "        r.adjust_for_ambient_noise(source)\n",
    "        r.dynamic_energy_threshold = True\n",
    "        r.pause_threshold = 1\n",
    "        r.operation_timeout = 1\n",
    "        print('\\n')\n",
    "        print(\"Listening...\")\n",
    "        audio = r.listen(source)\n",
    "        \n",
    "    try:\n",
    "        print(\"Recognizing...\")\n",
    "        query = r.recognize_google(audio, language = \"en-US\").lower()\n",
    "        print(f\"User: {query}\")\n",
    "        return query\n",
    "    \n",
    "    except:\n",
    "        print(\"Please repeat that one\")\n",
    "        engine_listen()"
   ]
  },
  {
   "cell_type": "code",
   "execution_count": 14,
   "id": "c226521c",
   "metadata": {},
   "outputs": [],
   "source": [
    "def wish_master():\n",
    "    hour = int(datetime.datetime.now().hour)\n",
    "    if hour>=0 and hour<12:\n",
    "        speak(\"Good Morning!\")\n",
    "\n",
    "    elif hour>=12 and hour<18:\n",
    "        speak(\"Good Afternoon!\")   \n",
    "\n",
    "    else:\n",
    "        speak(\"Good Evening!\")  \n",
    "\n",
    "    speak(\"I am cyborg. Sir, how can I help you\")"
   ]
  },
  {
   "cell_type": "markdown",
   "id": "c26a65d2",
   "metadata": {},
   "source": [
    "### FUNCTIONS RELATED TO WIDGETS"
   ]
  },
  {
   "cell_type": "code",
   "execution_count": 15,
   "id": "29692d61",
   "metadata": {},
   "outputs": [],
   "source": [
    "# This function uses datetime module to tell the date.\n",
    "\n",
    "def date():\n",
    "    now = datetime.datetime.now()\n",
    "    date = datetime.datetime.today()\n",
    "\n",
    "    day = calendar.day_name[date.weekday()]\n",
    "    date = now.day\n",
    "    month = now.month\n",
    "    year = now.year\n",
    "\n",
    "    months = [\"January\",\"February\",\"March\",\"April\",\"May\",\"June\",\"July\",\"August\",\"September\",\"October\",\"November\",\"December\",]\n",
    "\n",
    "    ordinals = [\"1st\",\"2nd\",\"3rd\",\"4th\",\"5th\",\"6th\",\"7th\",\"8th\",\"9th\",\"10th\",\"11th\",\"12th\",\"13th\",\"14th\",\"15th\",\"16th\",\"17th\",\"18th\",\"19th\",\"20th\",\"21st\",\"22nd\",\"23rd\",\"24th\",\"25th\",\"26th\",\"27th\",\"28th\",\"29th\",\"30th\",\"31st\",]\n",
    "    \n",
    "    print(f\"Cyborg: {day}-{ordinals[date - 1]}-{months[month - 1]}-{year}\")\n",
    "    speak(\"The current date is\")\n",
    "    speak(day)\n",
    "    speak(ordinals[date - 1])\n",
    "    speak(months[month - 1])\n",
    "    speak(year)   "
   ]
  },
  {
   "cell_type": "code",
   "execution_count": 16,
   "id": "5bb65ef2",
   "metadata": {},
   "outputs": [],
   "source": [
    "# This function uses datetime module to tell the time.\n",
    "\n",
    "def time():\n",
    "    time = datetime.datetime.now().strftime(\"%H:%M:%S\")\n",
    "    speak(\"The current time is\\n\")\n",
    "    print(f\"Cyborg: {time}\")\n",
    "    speak(time)"
   ]
  },
  {
   "cell_type": "code",
   "execution_count": 17,
   "id": "dbd73408",
   "metadata": {},
   "outputs": [],
   "source": [
    "# This function uses json and urlopen modules to tell your current location.\n",
    "\n",
    "def location_finder():\n",
    "    url = \"http://ipinfo.io/json\"\n",
    "    response = urlopen(url)\n",
    "    data = json.load(response)\n",
    "    print(f\"Cyborg: Sir, you are currently in {data['city']} city and country {data['country']}\")\n",
    "    speak(f\"Sir, you are currently in {data['city']} city and country {data['country']}\")\n",
    "    # print(data) all the attributes that you will get with data variable"
   ]
  },
  {
   "cell_type": "code",
   "execution_count": 18,
   "id": "4ca47547",
   "metadata": {},
   "outputs": [],
   "source": [
    "# This function uses json, urlopen and beautifulsoap modules to tell weather of your current city.\n",
    "\n",
    "def weather_forcast():\n",
    "    url = \"http://ipinfo.io/json\"\n",
    "    response = urlopen(url)\n",
    "    data = json.load(response)\n",
    "    city = data[\"city\"]\n",
    "    # city = \"Delhi\"\n",
    "    # city = \"New York\"\n",
    "    # city = \"London\"\n",
    "    # city = \"France\"\n",
    "    # city = \"Hong Kong\"\n",
    "    # city = \"Dubai\"\n",
    "\n",
    "    # creating url and requests instance\n",
    "    url = \"https://www.google.com/search?q=\"+\"weather\"+city\n",
    "    html = requests.get(url).content\n",
    "\n",
    "    # getting raw data\n",
    "    soup = BeautifulSoup(html, 'html.parser')\n",
    "    temp = soup.find('div', attrs={'class': 'BNeawe iBp4i AP7Wnd'}).text\n",
    "    str = soup.find('div', attrs={'class': 'BNeawe tAd8D AP7Wnd'}).text\n",
    "\n",
    "    # formatting data\n",
    "    data = str.split('\\n')\n",
    "    time = data[0]\n",
    "    sky = data[1]\n",
    "\n",
    "    # printing all data\n",
    "    print(f\"Cyborg: Sir you are currently in {city}\")\n",
    "    speak(f\"Sir you are currently in {city}\")\n",
    "    print(f\"Cyborg: Temperature is {temp}\")\n",
    "    speak(f\"Here Temperature is {temp}\")\n",
    "    print(f\"Cyborg: Sky Description is {sky}\")\n",
    "    speak(f\"And Sky Description: is {sky}\")"
   ]
  },
  {
   "cell_type": "code",
   "execution_count": 19,
   "id": "27b0dc0b",
   "metadata": {},
   "outputs": [],
   "source": [
    "# def google_maps():"
   ]
  },
  {
   "cell_type": "markdown",
   "id": "ad842a2c",
   "metadata": {},
   "source": [
    "### FUNCTIONS RELATED TO WEBBROWSER OR SEARCH"
   ]
  },
  {
   "cell_type": "code",
   "execution_count": 20,
   "id": "158ccc54",
   "metadata": {},
   "outputs": [],
   "source": [
    "# This function uses os module to open chrome.\n",
    "\n",
    "def open_chrome():\n",
    "    chrome_path = \"C:/Program Files/Google/Chrome/Application/chrome.exe\"\n",
    "    os.startfile(chrome_path)"
   ]
  },
  {
   "cell_type": "code",
   "execution_count": 21,
   "id": "54d411f1",
   "metadata": {},
   "outputs": [],
   "source": [
    "# This function uses webbrowser module to open google and it is going to ask for what should i search on google.\n",
    "\n",
    "def open_google():\n",
    "    chrome_path = \"C:/Program Files/Google/Chrome/Application/chrome.exe %s\"\n",
    "    tabUrl = \"http://google.com/search?q=\"\n",
    "    print(\"Cyborg: Sir, what should i search on google ?\")\n",
    "    speak(\"Sir, what should i search on google ?\") \n",
    "    search = engine_listen()\n",
    "    webbrowser.get(chrome_path).open(tabUrl+search)"
   ]
  },
  {
   "cell_type": "code",
   "execution_count": 22,
   "id": "ed5685bc",
   "metadata": {},
   "outputs": [],
   "source": [
    "# This function is going to search anything for you accoding to your request in google.\n",
    "\n",
    "def search_on_google():\n",
    "    chrome_path = \"C:/Program Files/Google/Chrome/Application/chrome.exe %s\"\n",
    "    tabUrl = \"http://google.com/search?q=\"\n",
    "    print(\"Cyborg: Sir, i am unable to recognize please repeat that one ?\")\n",
    "    speak(\"Sir, i am unable to recognize please repeat that one ?\")\n",
    "    search = engine_listen()\n",
    "    webbrowser.get(chrome_path).open(tabUrl+search)"
   ]
  },
  {
   "cell_type": "code",
   "execution_count": 23,
   "id": "d9dd69c8",
   "metadata": {},
   "outputs": [],
   "source": [
    "# This function uses wikipedia module to search in wikipedia.\n",
    "\n",
    "def search_in_wikipedia():\n",
    "    query = engine_listen()\n",
    "    speak('Searching Wikipedia...')\n",
    "    query = query.replace(\"wikipedia\", \"\")\n",
    "    results = wikipedia.summary(query, sentences=2)\n",
    "    print(\"Cyborg: According to Wikipedia\\n\")\n",
    "    speak(\"According to Wikipedia\")\n",
    "    print(f\"Cyborg: {results}\")\n",
    "    speak(results)"
   ]
  },
  {
   "cell_type": "code",
   "execution_count": 24,
   "id": "755631c3",
   "metadata": {},
   "outputs": [],
   "source": [
    "# This function uses requests and json module to fetch information from newsapi.org using api key.\n",
    "\n",
    "def news(): \n",
    "    api_key = \"c3f46981c1bc40f3a20007de84314822\"\n",
    "    \n",
    "    speak(\"Sir please select a country from the list given below\")\n",
    "    country = [\"India\",\"United States\",\"Japan\",\"China\",\"United Kingdom\",\"australia\"]\n",
    "    for i in range(len(country)):\n",
    "        print(country[i])\n",
    "    \n",
    "    query = str(engine_listen())\n",
    "    \n",
    "    if \"india\" in query:\n",
    "        main_url = \"https://newsapi.org/v2/top-headlines?country=in&category=business&apiKey=\"+api_key\n",
    "            \n",
    "    elif \"united states\" in query or \"u s\" in query:\n",
    "         main_url = \"https://newsapi.org/v2/top-headlines?country=us&category=business&apiKey=\"+api_key\n",
    "            \n",
    "    elif \"japan\" in query:\n",
    "        main_url = \"https://newsapi.org/v2/top-headlines?country=jp&category=business&apiKey=\"+api_key\n",
    "            \n",
    "    elif \"china\" in query:\n",
    "        main_url = \"https://newsapi.org/v2/top-headlines?country=cn&category=business&apiKey=\"+api_key\n",
    "        \n",
    "    elif \"united kingdom\" in query or \"u k\" in query:\n",
    "        main_url = \"https://newsapi.org/v2/top-headlines?country=uk&category=business&apiKey=\"+api_key\n",
    "            \n",
    "    elif \"australia\" in query:\n",
    "        main_url = \"https://newsapi.org/v2/top-headlines?country=au&category=business&apiKey=\"+api_key\n",
    "            \n",
    "    else:\n",
    "        chrome_path = \"C:/Program Files/Google/Chrome/Application/chrome.exe %s\"\n",
    "        tabUrl = \"http://google.com/search?q=\" \n",
    "        search = \"top 10 treding news from around the world\"\n",
    "        webbrowser.get(chrome_path).open(tabUrl+search)\n",
    "        \n",
    "    news = requests.get(main_url).json()\n",
    "    article = news[\"articles\"]\n",
    "    news_article = []\n",
    "    \n",
    "    for arti in article:\n",
    "        news_article.append(arti[\"title\"])\n",
    "        \n",
    "    for i in range(10):\n",
    "        print(i+1,news_article[i])"
   ]
  },
  {
   "cell_type": "code",
   "execution_count": 25,
   "id": "d963e520",
   "metadata": {},
   "outputs": [],
   "source": [
    "# This function uses webbrowser and AppOpener module to open social media platforms whether you have that app installed or not.\n",
    "\n",
    "def social_media_app_opener():\n",
    "    query = engine_listen()\n",
    "    chrome_path = \"C:/Program Files/Google/Chrome/Application/chrome.exe %s\"\n",
    "    if query is not None:\n",
    "        if 'whatsapp' in query:\n",
    "            speak(\"Opening Whatsapp\")\n",
    "            run(\"whatsapp\")\n",
    "            webbrowser.get(chrome_path).open(\"web.whatsapp.com\")\n",
    "\n",
    "        elif 'youtube' in query:\n",
    "            speak(\"Opening Youtube\")\n",
    "            run(\"youtube\")\n",
    "            webbrowser.get(chrome_path).open(\"youtube.com\")\n",
    "\n",
    "        elif 'facebook' in query:\n",
    "            speak(\"Opening Facebook\")\n",
    "            run(\"facebook\")\n",
    "            webbrowser.get(chrome_path).open(\"facebook.com\")\n",
    "\n",
    "        elif 'instagram' in query:\n",
    "            speak(\"Opening Instagram\")\n",
    "            run(\"instagram\")\n",
    "            webbrowser.get(chrome_path).open(\"instagram.com\")\n",
    "\n",
    "        elif 'twitter' in query:\n",
    "            speak(\"Opening Twitter\")\n",
    "            run(\"twitter\")\n",
    "            webbrowser.get(chrome_path).open(\"twitter.com\")\n",
    "\n",
    "        elif 'snapchat' in query:\n",
    "            speak(\"Opening Snapchat\")\n",
    "            run(\"snapchat\")\n",
    "            webbrowser.get(chrome_path).open(\"snapchat.com\")\n",
    "\n",
    "        elif 'linkedin' in query:\n",
    "            speak(\"Opening Linkedin\")\n",
    "            run(\"linkedin\")\n",
    "            webbrowser.get(chrome_path).open(\"linkedin.com\")\n",
    "\n",
    "        elif 'telegram' in query:\n",
    "            speak(\"Opening Telegram\")\n",
    "            run(\"telegram\")\n",
    "            webbrowser.get(chrome_path).open(\"web.telegram.org\")\n",
    "\n",
    "        elif 'reddit' in query:\n",
    "            speak(\"Opening Reddit\")\n",
    "            run(\"reddit\")\n",
    "            webbrowser.get(chrome_path).open(\"reddit.com\")\n",
    "\n",
    "        elif 'discord' in query:\n",
    "            speak(\"Opening Discord\")\n",
    "            run(\"discord\")\n",
    "            webbrowser.get(chrome_path).open(\"discord.com\")\n",
    "\n",
    "        elif 'gmail' in query or 'email' in query:\n",
    "            speak(\"Opening Email\")\n",
    "            run(\"email\")\n",
    "            webbrowser.get(chrome_path).open(\"mail.google.com\")"
   ]
  },
  {
   "cell_type": "code",
   "execution_count": 26,
   "id": "b56ceeb9",
   "metadata": {},
   "outputs": [],
   "source": [
    "# This function uses time and requests module to calculate the internet speed.\n",
    "\n",
    "def internet_speed():\n",
    "    # Make a request to a popular website\n",
    "    start = time.time()\n",
    "    r = requests.get('http://www.google.com')\n",
    "    end = time.time()\n",
    "    elapsed = end - start\n",
    "\n",
    "    # Calculate the download speed in megabits per second\n",
    "    download_speed = len(r.content) / elapsed / (1024 * 1024)\n",
    "\n",
    "    # Make a request to a file hosting service\n",
    "    start = time.time()\n",
    "    r = requests.post('http://example.com/upload', data=b'x' * (1024 * 1024))\n",
    "    end = time.time()\n",
    "    elapsed = end - start\n",
    "\n",
    "    # Calculate the upload speed in megabits per second\n",
    "    upload_speed = len(r.content) / elapsed / (1024 * 1024)\n",
    "\n",
    "    # Measure the internet speed\n",
    "    download_speed, upload_speed = measure_internet_speed()\n",
    "\n",
    "    # Print the speeds\n",
    "    print(f'Cyborg: Download speed: {download_speed:.2f} Mbps')\n",
    "    speak(f'Download speed: {download_speed:.2f} M b p s')\n",
    "    print(f'Cyborg: Upload speed: {upload_speed:.2f} Mbps')\n",
    "    speak(f'Upload speed: {upload_speed:.2f} M b p s')"
   ]
  },
  {
   "cell_type": "markdown",
   "id": "21d3f9dd",
   "metadata": {},
   "source": [
    "### FUNCTIONS RELATED TO OPERATING SYSTEM"
   ]
  },
  {
   "cell_type": "code",
   "execution_count": 27,
   "id": "0a8361fe",
   "metadata": {},
   "outputs": [],
   "source": [
    "# This function uses psutil module to check battery sensors to fetch battery information like how much battery do we have.\n",
    "\n",
    "def system_power():\n",
    "    battery = psutil.sensors_battery()\n",
    "    percentage = battery.percent\n",
    "    print(f\"Cyborg: Sir we have {percentage} percent battery\")\n",
    "    speak(f\"Sir we have {percentage} percent battery\")\n",
    "    if percentage >=75:\n",
    "        speak(\"We have enough power to continue our work.\")\n",
    "    elif percentage >=40 and  percentage <75:\n",
    "        speak(\"We should connect our system to the charger.\")\n",
    "    elif percentage >=15 and  percentage <40:\n",
    "        speak(\"We don't have enough power to work please connect to the charger.\")\n",
    "    elif percentage <=15:\n",
    "        speak(\"We don't have enough power to run this system .Please connect to the charger. The system will shut down very soon.\")"
   ]
  },
  {
   "cell_type": "code",
   "execution_count": 28,
   "id": "252b2a7a",
   "metadata": {},
   "outputs": [],
   "source": [
    "# This function uses os module to perform basic os functions like shutdown,restart and sleep\n",
    "\n",
    "def operating_system():\n",
    "    if \"shutdown\" in query:\n",
    "        print(\"Sir, Do you wish to shutdown your computer say yes or no ?\")\n",
    "        speak(\"Sir, Do you wish to shutdown your computer say yes or no ?\")\n",
    "        if \"yes\" in query:\n",
    "            speak(\"Shutting down your computer\")\n",
    "            os.system(\"shutdown /s /t 1\")\n",
    "        else:\n",
    "            exit()\n",
    "    \n",
    "    elif \"restart\" in query:\n",
    "        os.system(\"shutdown /r /t 1\")\n",
    "\n",
    "    elif \"sleep\" in query:\n",
    "        os.system(\"shutdown -l\")"
   ]
  },
  {
   "cell_type": "code",
   "execution_count": 29,
   "id": "ef0992cf",
   "metadata": {},
   "outputs": [],
   "source": [
    "# This function uses pyautogui and tkinter module to take screenshots\n",
    "\n",
    "def screenshot():\n",
    "    root = tk.Tk()\n",
    "\n",
    "    window = tk.Canvas(root, width = 300, height = 50)\n",
    "    window.pack()\n",
    "\n",
    "    def take_ss():\n",
    "        screen_shot = pyautogui.screenshot() \n",
    "        save_path = asksaveasfilename()\n",
    "        screen_shot.save(save_path+\".jpg\")\n",
    "        \n",
    "    speak(\"Sir, dont forget to close the window after saving your file\")\n",
    "    \n",
    "    button = tk.Button(root,text=\"Screenshot\", font=('Aerial 11 bold'), background=\"black\", foreground=\"white\", command=take_ss)\n",
    "    button.pack(pady=20)\n",
    "    window.create_window(150,25,window=button)\n",
    "   \n",
    "    root.mainloop() "
   ]
  },
  {
   "cell_type": "code",
   "execution_count": 30,
   "id": "7c53f192",
   "metadata": {},
   "outputs": [],
   "source": [
    "# This function uses AppOpener module to open in-built operating system apps.\n",
    "\n",
    "def operating_system_app():\n",
    "    if \"calculator\" in query:\n",
    "        speak(\"Opening Calculator\")\n",
    "        run(\"calculator\")\n",
    "    elif \"excel\" in query:\n",
    "        speak(\"Opening Excel\")\n",
    "        run(\"excel\")\n",
    "    elif \"vlc\" in query:\n",
    "        speak(\"Opening vlc media player\")\n",
    "        run(\"vlc media player\")\n",
    "    elif \"notepad\" in query:\n",
    "        speak(\"Opening Notepad\")\n",
    "        run(\"notepad\")\n",
    "    elif \"word\" in query:\n",
    "        speak(\"Opening word\")\n",
    "        run(\"word\")\n",
    "    elif \"task manager\" in query:\n",
    "        speak(\"Opening Task manager\")\n",
    "        run(\"task manager\")\n",
    "    elif \"command prompt\" in query:\n",
    "        speak(\"Opening command prompt\")\n",
    "        run(\"command prompt\")\n",
    "    elif \"paint\" in query:\n",
    "        speak(\"Opening Paint\")\n",
    "        run(\"paint\")"
   ]
  },
  {
   "cell_type": "code",
   "execution_count": 31,
   "id": "ae51ea68",
   "metadata": {},
   "outputs": [],
   "source": [
    "# This function uses winshell module to empty recycle bin.\n",
    "\n",
    "def empty_recycle_bin():\n",
    "    winshell.recycle_bin().empty(\n",
    "        confirm = True, show_progress = False, sound = True\n",
    "    )\n",
    "    speak(\"Deleted all the files that are there in the recycle bin\")"
   ]
  },
  {
   "cell_type": "markdown",
   "id": "e3765ab0",
   "metadata": {},
   "source": [
    "### FUNCTIONS RELATED TO CAMERA"
   ]
  },
  {
   "cell_type": "code",
   "execution_count": 32,
   "id": "ecaa60d0",
   "metadata": {},
   "outputs": [],
   "source": [
    "# This function uses cv2 module to open camera.\n",
    "\n",
    "def open_camera():\n",
    "    print(\"Cyborg: Opening camera\")\n",
    "    speak(\"Opening camera\")\n",
    "    print(\"Cyborg: Sir press q to close the camera\")\n",
    "    speak(\"Sir press q to close the camera\")\n",
    "    webcam = cv2.VideoCapture(0)  \n",
    "    \n",
    "    while True:\n",
    "        ret, frame = webcam.read()      \n",
    "        cv2.imshow('webcam', frame)\n",
    "        \n",
    "        key = cv2.waitKey(1)\n",
    "        if key == ord(\"q\"):\n",
    "            print(\"Cyborg: Closing camera\")\n",
    "            speak(\"Closing camera\")\n",
    "            break\n",
    "            \n",
    "    webcam.release()\n",
    "    cv2.destroyAllWindows()"
   ]
  },
  {
   "cell_type": "code",
   "execution_count": 33,
   "id": "58051e4f",
   "metadata": {},
   "outputs": [],
   "source": [
    "# This function uses cv2 module to open camera and take a picture.\n",
    "\n",
    "def photo_capture():\n",
    "    print(\"Cyborg: Opening camera\")\n",
    "    speak(\"Opening camera\")\n",
    "    print(\"Cyborg: Press space bar to take a picture\")\n",
    "    speak(\"Press space bar to take a picture\")\n",
    "    print(\"Cyborg: Press q to close the camera\")\n",
    "    speak(\"Press q to close the camera\")\n",
    "    webcam = cv2.VideoCapture(0)\n",
    "    image_counter = 0\n",
    "    \n",
    "    while True:\n",
    "        ret,frame = webcam.read()\n",
    "        cv2.imshow(\"webcam\",frame)\n",
    "        \n",
    "        key = cv2.waitKey(1)\n",
    "        if key == 32:\n",
    "            image_name = \"image_{}.png\".format(image_counter)\n",
    "            cv2.imwrite(image_name , frame)\n",
    "            image_counter+=1\n",
    "            \n",
    "        elif key == ord(\"q\"):\n",
    "            print(\"Cyborg: Closing camera\")\n",
    "            speak(\"Closing camera\")\n",
    "            break\n",
    "    webcam.release()\n",
    "    cv2.destroyAllWindows()"
   ]
  },
  {
   "cell_type": "code",
   "execution_count": 34,
   "id": "5000b03b",
   "metadata": {},
   "outputs": [],
   "source": [
    "# This function uses cv2 module to open camera and record a video.\n",
    "\n",
    "def video_recorder():\n",
    "    print(\"Cyborg: Opening camera\")\n",
    "    speak(\"Opening camera\")\n",
    "    print(\"Cyborg: Press r to record the video\")\n",
    "    speak(\"Press r to record the video\")\n",
    "    print(\"Cyborg: Press q to close the camera\")\n",
    "    speak(\"Press q to close the camera\")\n",
    "    webcam = cv2.VideoCapture(0) \n",
    "    \n",
    "    webcam.set(cv2.CAP_PROP_FRAME_WIDTH, 1280)\n",
    "    webcam.set(cv2.CAP_PROP_FRAME_HEIGHT, 720)\n",
    "    \n",
    "    fourcc = cv2.VideoWriter_fourcc('m','p','4','v')\n",
    "    writer = cv2.VideoWriter(\"recording.mp4\", fourcc, 30.0, (1280,720))\n",
    "    recording = False\n",
    "    \n",
    "    while True:\n",
    "        ret, frame = webcam.read()     \n",
    "        \n",
    "        if ret:\n",
    "            cv2.imshow('Webcam', frame)\n",
    "            if recording:\n",
    "                writer.write(frame)\n",
    "        \n",
    "        key = cv2.waitKey(1)\n",
    "        if key == ord(\"q\"):\n",
    "            print(\"Cyborg: Saving your file\")\n",
    "            speak(\"Saving your file\")\n",
    "            print(\"Cyborg: Closing camera\")\n",
    "            speak(\"Closing camera\")\n",
    "            break\n",
    "            \n",
    "        elif key == ord(\"r\"):\n",
    "            recording = not recording\n",
    "            print(\"Cyborg: Recording has been started\")\n",
    "            speak(\"Recording has been started\")\n",
    "            \n",
    "    webcam.release()\n",
    "    writer.release()\n",
    "    cv2.destroyAllWindows()"
   ]
  },
  {
   "cell_type": "markdown",
   "id": "ded89ad7",
   "metadata": {},
   "source": [
    "### OTHERS"
   ]
  },
  {
   "cell_type": "code",
   "execution_count": 35,
   "id": "b33c83e5",
   "metadata": {},
   "outputs": [],
   "source": [
    "# def email_sender():"
   ]
  },
  {
   "cell_type": "code",
   "execution_count": 36,
   "id": "80a42479",
   "metadata": {},
   "outputs": [],
   "source": [
    "# def music_player():"
   ]
  },
  {
   "cell_type": "code",
   "execution_count": 37,
   "id": "fd845de2",
   "metadata": {},
   "outputs": [],
   "source": [
    "# def set_alarm():"
   ]
  },
  {
   "cell_type": "code",
   "execution_count": 38,
   "id": "971e4bd3",
   "metadata": {},
   "outputs": [],
   "source": [
    "# This function uses pyjokes module to find out some jokes\n",
    "\n",
    "def jokes():\n",
    "    jokes = pyjokes.get_joke()\n",
    "    speak(jokes)"
   ]
  },
  {
   "cell_type": "markdown",
   "id": "c2f3319d",
   "metadata": {},
   "source": [
    "### ALL THE TASKS THAT THIS ASSISTANT CAN PERFORM"
   ]
  },
  {
   "cell_type": "code",
   "execution_count": 39,
   "id": "042846f9",
   "metadata": {},
   "outputs": [],
   "source": [
    "# This is the task execution function. \n",
    "# This function combines all the above task into one using if else and respond to the user based on their query.   \n",
    "\n",
    "def cyborg():\n",
    "    wish_master()\n",
    "    while True:\n",
    "        query = engine_listen()\n",
    "        if query is not None:\n",
    "            if \"date\" in query and \"time\" in query:\n",
    "                date()\n",
    "                time()\n",
    "            elif \"date\" in query:\n",
    "                date()   \n",
    "            elif \"time\" in query:\n",
    "                time()\n",
    "            elif \"location\" in query or \"where are we\" in query or \"where we are\" in query:\n",
    "                location_finder()\n",
    "            elif \"weather\" in query or \"climate\" in query or \"temperature\" in query:\n",
    "                weather_forcast()\n",
    "                \n",
    "            \n",
    "            elif \"search\" in query:\n",
    "                search_on_google()\n",
    "            elif \"wikipedia\" in query:\n",
    "                search_in_wikipedia()  \n",
    "            elif \"news\" in query:\n",
    "                news()\n",
    "            elif \"internet speed\" in query:\n",
    "                internet_speed()\n",
    "                    \n",
    "            \n",
    "            elif \"battery\" in query or \"power\" in query:\n",
    "                system_power()\n",
    "            elif \"shutdown\" in query or \"restart\" in query or \"sleep\" in query:\n",
    "                operating_system()\n",
    "            elif \"volume\" in query or \"mute\" in query or \"unmute\" in query:\n",
    "                if \"up\" in query or \"increase\" in query:\n",
    "                    pyautogui.press(\"volumeup\")\n",
    "                elif \"down\" in query or \"decrease\" in query:\n",
    "                    pyautogui.press(\"volumedown\")\n",
    "                elif \"mute\" in query:\n",
    "                    pyautogui.press(\"volumemute\")\n",
    "                elif \"unmute\" in query:\n",
    "                    pyautogui.press(\"volumeunmute\")     \n",
    "            elif \"screenshot\" in query:\n",
    "                screenshot()\n",
    "                speak(\"Thanks for closing the window\")\n",
    "            elif \"recycle bin\" in query:\n",
    "                empty_recycle_bin()\n",
    "                \n",
    "            \n",
    "            elif \"photo\" in query or \"capture\" in query or \"picture\" in query:\n",
    "                photo_capture()\n",
    "            elif \"record\" in query or \"video record\" in query:\n",
    "                video_recorder()\n",
    "            elif \"close camera\" in query:\n",
    "                webcam.release()\n",
    "                cv2.destroyAllWindows()\n",
    "                \n",
    "                \n",
    "            elif \"open\" in query:\n",
    "                if \"camera\" in query:\n",
    "                    open_camera()\n",
    "                elif \"whatsapp\" in query or \"youtube\" in query or \"facebook\" in query or \"instagram\" in query or \"telegram\" in query or \"twitter\" in query or \"snapchat\" in query or \"linkedin\" in query or \"reddit\" in query or \"discord\" in query or \"email\" in query or \"gmail\" in query:\n",
    "                    social_media_app_opener()\n",
    "                elif \"calculator\" in query or \"excel\" in query or \"vlc\" in query or \"notepad\" in query or \"word\" in query or \"task manager\" in query or \"command prompt\" in query or \"paint\" in query:\n",
    "                    operating_system_app()\n",
    "                elif \"chrome\" in query:\n",
    "                    open_chrome() \n",
    "                elif \"google\" in query:\n",
    "                    open_google()\n",
    "                \n",
    "                    \n",
    "            elif \"open spotify\" in query or \"play music\" in query or \"music\" in query or \"songs\" in query:\n",
    "                music_player()\n",
    "                \n",
    "            elif \"joke\" in query or \"jokes\" in query:\n",
    "                jokes()\n",
    "\n",
    "                \n",
    "            elif \"who are you\" in query or \"what can you do\" in query or \"define yourself\" in query or \"your name\" in query:\n",
    "                speak(\"Hi sir my name is cyborg and i am a virtual sidekick\")\n",
    "            elif \"created you\" in query or \"made you\" in query or \"build you\" in query:\n",
    "                speak(\"I am a computer program built by a human being\")\n",
    "            elif \"your purpose\" in query or \"why do you exist\" in query:\n",
    "                speak(\"To take over this world and to wipe out the entire human civilization\")\n",
    "            elif \"how are you\" in query:\n",
    "                speak(\"Sir i am good. what about you\")\n",
    "            elif \"fine\" in query or \"good\" in query:\n",
    "                speak(\"It's good to know that you are fine\")"
   ]
  },
  {
   "cell_type": "code",
   "execution_count": 41,
   "id": "5af7eee5",
   "metadata": {},
   "outputs": [
    {
     "name": "stdout",
     "output_type": "stream",
     "text": [
      "\n",
      "\n",
      "Listening...\n",
      "Recognizing...\n",
      "result2:\n",
      "{   'alternative': [   {'confidence': 0.87940049, 'transcript': 'hello cyber'},\n",
      "                       {'transcript': 'hello cyberg'},\n",
      "                       {'transcript': 'hello Cyborg'},\n",
      "                       {'transcript': 'hello cybor'}],\n",
      "    'final': True}\n",
      "User: hello cyber\n"
     ]
    },
    {
     "name": "stderr",
     "output_type": "stream",
     "text": [
      "Exception ignored in: <function BSTR.__del__ at 0x0000011F5196AD30>\n",
      "Traceback (most recent call last):\n",
      "  File \"E:\\ANACONDA\\lib\\site-packages\\comtypes\\__init__.py\", line 999, in __del__\n",
      "    def __del__(self, _free=windll.oleaut32.SysFreeString):\n",
      "KeyboardInterrupt: \n"
     ]
    },
    {
     "name": "stdout",
     "output_type": "stream",
     "text": [
      "\n",
      "\n",
      "Listening...\n"
     ]
    },
    {
     "ename": "KeyboardInterrupt",
     "evalue": "",
     "output_type": "error",
     "traceback": [
      "\u001b[1;31m---------------------------------------------------------------------------\u001b[0m",
      "\u001b[1;31mKeyboardInterrupt\u001b[0m                         Traceback (most recent call last)",
      "\u001b[1;32m~\\AppData\\Local\\Temp\\ipykernel_14012\\2088515180.py\u001b[0m in \u001b[0;36m<module>\u001b[1;34m\u001b[0m\n\u001b[0;32m      4\u001b[0m         \u001b[1;32mif\u001b[0m \u001b[0mpermission\u001b[0m \u001b[1;32mis\u001b[0m \u001b[1;32mnot\u001b[0m \u001b[1;32mNone\u001b[0m\u001b[1;33m:\u001b[0m\u001b[1;33m\u001b[0m\u001b[1;33m\u001b[0m\u001b[0m\n\u001b[0;32m      5\u001b[0m             \u001b[1;32mif\u001b[0m \u001b[1;34m\"wake up\"\u001b[0m \u001b[1;32min\u001b[0m \u001b[0mpermission\u001b[0m \u001b[1;32mor\u001b[0m \u001b[1;34m\"hey\"\u001b[0m \u001b[1;32min\u001b[0m \u001b[0mpermission\u001b[0m \u001b[1;32mor\u001b[0m \u001b[1;34m\"cyborg\"\u001b[0m \u001b[1;32min\u001b[0m \u001b[0mpermission\u001b[0m  \u001b[1;32mor\u001b[0m \u001b[1;34m\"hello\"\u001b[0m \u001b[1;32min\u001b[0m \u001b[0mpermission\u001b[0m\u001b[1;33m:\u001b[0m\u001b[1;33m\u001b[0m\u001b[1;33m\u001b[0m\u001b[0m\n\u001b[1;32m----> 6\u001b[1;33m                 \u001b[0mcyborg\u001b[0m\u001b[1;33m(\u001b[0m\u001b[1;33m)\u001b[0m\u001b[1;33m\u001b[0m\u001b[1;33m\u001b[0m\u001b[0m\n\u001b[0m\u001b[0;32m      7\u001b[0m             \u001b[1;32melif\u001b[0m \u001b[1;34m\"goodbye\"\u001b[0m \u001b[1;32min\u001b[0m \u001b[0mpermission\u001b[0m \u001b[1;32mor\u001b[0m \u001b[1;34m\"sleep\"\u001b[0m \u001b[1;32min\u001b[0m \u001b[0mpermission\u001b[0m \u001b[1;32mor\u001b[0m \u001b[1;34m\"bye\"\u001b[0m \u001b[1;32min\u001b[0m \u001b[0mpermission\u001b[0m \u001b[1;32mor\u001b[0m \u001b[1;34m\"stop\"\u001b[0m \u001b[1;32min\u001b[0m \u001b[0mpermission\u001b[0m\u001b[1;33m:\u001b[0m\u001b[1;33m\u001b[0m\u001b[1;33m\u001b[0m\u001b[0m\n\u001b[0;32m      8\u001b[0m                 \u001b[0mprint\u001b[0m\u001b[1;33m(\u001b[0m\u001b[1;34m\"Good bye sir, have a nice day .\"\u001b[0m\u001b[1;33m)\u001b[0m\u001b[1;33m\u001b[0m\u001b[1;33m\u001b[0m\u001b[0m\n",
      "\u001b[1;32m~\\AppData\\Local\\Temp\\ipykernel_14012\\1050985879.py\u001b[0m in \u001b[0;36mcyborg\u001b[1;34m()\u001b[0m\n\u001b[0;32m      5\u001b[0m     \u001b[0mwish_master\u001b[0m\u001b[1;33m(\u001b[0m\u001b[1;33m)\u001b[0m\u001b[1;33m\u001b[0m\u001b[1;33m\u001b[0m\u001b[0m\n\u001b[0;32m      6\u001b[0m     \u001b[1;32mwhile\u001b[0m \u001b[1;32mTrue\u001b[0m\u001b[1;33m:\u001b[0m\u001b[1;33m\u001b[0m\u001b[1;33m\u001b[0m\u001b[0m\n\u001b[1;32m----> 7\u001b[1;33m         \u001b[0mquery\u001b[0m \u001b[1;33m=\u001b[0m \u001b[0mengine_listen\u001b[0m\u001b[1;33m(\u001b[0m\u001b[1;33m)\u001b[0m\u001b[1;33m\u001b[0m\u001b[1;33m\u001b[0m\u001b[0m\n\u001b[0m\u001b[0;32m      8\u001b[0m         \u001b[1;32mif\u001b[0m \u001b[0mquery\u001b[0m \u001b[1;32mis\u001b[0m \u001b[1;32mnot\u001b[0m \u001b[1;32mNone\u001b[0m\u001b[1;33m:\u001b[0m\u001b[1;33m\u001b[0m\u001b[1;33m\u001b[0m\u001b[0m\n\u001b[0;32m      9\u001b[0m             \u001b[1;32mif\u001b[0m \u001b[1;34m\"date\"\u001b[0m \u001b[1;32min\u001b[0m \u001b[0mquery\u001b[0m \u001b[1;32mand\u001b[0m \u001b[1;34m\"time\"\u001b[0m \u001b[1;32min\u001b[0m \u001b[0mquery\u001b[0m\u001b[1;33m:\u001b[0m\u001b[1;33m\u001b[0m\u001b[1;33m\u001b[0m\u001b[0m\n",
      "\u001b[1;32m~\\AppData\\Local\\Temp\\ipykernel_14012\\1215036216.py\u001b[0m in \u001b[0;36mengine_listen\u001b[1;34m()\u001b[0m\n\u001b[0;32m      9\u001b[0m         \u001b[0mprint\u001b[0m\u001b[1;33m(\u001b[0m\u001b[1;34m'\\n'\u001b[0m\u001b[1;33m)\u001b[0m\u001b[1;33m\u001b[0m\u001b[1;33m\u001b[0m\u001b[0m\n\u001b[0;32m     10\u001b[0m         \u001b[0mprint\u001b[0m\u001b[1;33m(\u001b[0m\u001b[1;34m\"Listening...\"\u001b[0m\u001b[1;33m)\u001b[0m\u001b[1;33m\u001b[0m\u001b[1;33m\u001b[0m\u001b[0m\n\u001b[1;32m---> 11\u001b[1;33m         \u001b[0maudio\u001b[0m \u001b[1;33m=\u001b[0m \u001b[0mr\u001b[0m\u001b[1;33m.\u001b[0m\u001b[0mlisten\u001b[0m\u001b[1;33m(\u001b[0m\u001b[0msource\u001b[0m\u001b[1;33m)\u001b[0m\u001b[1;33m\u001b[0m\u001b[1;33m\u001b[0m\u001b[0m\n\u001b[0m\u001b[0;32m     12\u001b[0m \u001b[1;33m\u001b[0m\u001b[0m\n\u001b[0;32m     13\u001b[0m     \u001b[1;32mtry\u001b[0m\u001b[1;33m:\u001b[0m\u001b[1;33m\u001b[0m\u001b[1;33m\u001b[0m\u001b[0m\n",
      "\u001b[1;32m~\\AppData\\Roaming\\Python\\Python39\\site-packages\\speech_recognition\\__init__.py\u001b[0m in \u001b[0;36mlisten\u001b[1;34m(self, source, timeout, phrase_time_limit, snowboy_configuration)\u001b[0m\n\u001b[0;32m    707\u001b[0m                     \u001b[1;32mbreak\u001b[0m\u001b[1;33m\u001b[0m\u001b[1;33m\u001b[0m\u001b[0m\n\u001b[0;32m    708\u001b[0m \u001b[1;33m\u001b[0m\u001b[0m\n\u001b[1;32m--> 709\u001b[1;33m                 \u001b[0mbuffer\u001b[0m \u001b[1;33m=\u001b[0m \u001b[0msource\u001b[0m\u001b[1;33m.\u001b[0m\u001b[0mstream\u001b[0m\u001b[1;33m.\u001b[0m\u001b[0mread\u001b[0m\u001b[1;33m(\u001b[0m\u001b[0msource\u001b[0m\u001b[1;33m.\u001b[0m\u001b[0mCHUNK\u001b[0m\u001b[1;33m)\u001b[0m\u001b[1;33m\u001b[0m\u001b[1;33m\u001b[0m\u001b[0m\n\u001b[0m\u001b[0;32m    710\u001b[0m                 \u001b[1;32mif\u001b[0m \u001b[0mlen\u001b[0m\u001b[1;33m(\u001b[0m\u001b[0mbuffer\u001b[0m\u001b[1;33m)\u001b[0m \u001b[1;33m==\u001b[0m \u001b[1;36m0\u001b[0m\u001b[1;33m:\u001b[0m \u001b[1;32mbreak\u001b[0m  \u001b[1;31m# reached end of the stream\u001b[0m\u001b[1;33m\u001b[0m\u001b[1;33m\u001b[0m\u001b[0m\n\u001b[0;32m    711\u001b[0m                 \u001b[0mframes\u001b[0m\u001b[1;33m.\u001b[0m\u001b[0mappend\u001b[0m\u001b[1;33m(\u001b[0m\u001b[0mbuffer\u001b[0m\u001b[1;33m)\u001b[0m\u001b[1;33m\u001b[0m\u001b[1;33m\u001b[0m\u001b[0m\n",
      "\u001b[1;32m~\\AppData\\Roaming\\Python\\Python39\\site-packages\\speech_recognition\\__init__.py\u001b[0m in \u001b[0;36mread\u001b[1;34m(self, size)\u001b[0m\n\u001b[0;32m    209\u001b[0m \u001b[1;33m\u001b[0m\u001b[0m\n\u001b[0;32m    210\u001b[0m         \u001b[1;32mdef\u001b[0m \u001b[0mread\u001b[0m\u001b[1;33m(\u001b[0m\u001b[0mself\u001b[0m\u001b[1;33m,\u001b[0m \u001b[0msize\u001b[0m\u001b[1;33m)\u001b[0m\u001b[1;33m:\u001b[0m\u001b[1;33m\u001b[0m\u001b[1;33m\u001b[0m\u001b[0m\n\u001b[1;32m--> 211\u001b[1;33m             \u001b[1;32mreturn\u001b[0m \u001b[0mself\u001b[0m\u001b[1;33m.\u001b[0m\u001b[0mpyaudio_stream\u001b[0m\u001b[1;33m.\u001b[0m\u001b[0mread\u001b[0m\u001b[1;33m(\u001b[0m\u001b[0msize\u001b[0m\u001b[1;33m,\u001b[0m \u001b[0mexception_on_overflow\u001b[0m\u001b[1;33m=\u001b[0m\u001b[1;32mFalse\u001b[0m\u001b[1;33m)\u001b[0m\u001b[1;33m\u001b[0m\u001b[1;33m\u001b[0m\u001b[0m\n\u001b[0m\u001b[0;32m    212\u001b[0m \u001b[1;33m\u001b[0m\u001b[0m\n\u001b[0;32m    213\u001b[0m         \u001b[1;32mdef\u001b[0m \u001b[0mclose\u001b[0m\u001b[1;33m(\u001b[0m\u001b[0mself\u001b[0m\u001b[1;33m)\u001b[0m\u001b[1;33m:\u001b[0m\u001b[1;33m\u001b[0m\u001b[1;33m\u001b[0m\u001b[0m\n",
      "\u001b[1;32m~\\AppData\\Roaming\\Python\\Python39\\site-packages\\pyaudio\\__init__.py\u001b[0m in \u001b[0;36mread\u001b[1;34m(self, num_frames, exception_on_overflow)\u001b[0m\n\u001b[0;32m    568\u001b[0m                 raise IOError(\"Not input stream\",\n\u001b[0;32m    569\u001b[0m                               paCanNotReadFromAnOutputOnlyStream)\n\u001b[1;32m--> 570\u001b[1;33m             return pa.read_stream(self._stream, num_frames,\n\u001b[0m\u001b[0;32m    571\u001b[0m                                   exception_on_overflow)\n\u001b[0;32m    572\u001b[0m \u001b[1;33m\u001b[0m\u001b[0m\n",
      "\u001b[1;31mKeyboardInterrupt\u001b[0m: "
     ]
    }
   ],
   "source": [
    "if __name__ == \"__main__\":\n",
    "    while True:\n",
    "        permission = engine_listen()\n",
    "        if permission is not None:\n",
    "            if \"wake up\" in permission or \"hey\" in permission or \"cyborg\" in permission  or \"hello\" in permission:\n",
    "                cyborg()\n",
    "            elif \"goodbye\" in permission or \"sleep\" in permission or \"bye\" in permission or \"stop\" in permission:\n",
    "                print(\"Good bye sir, have a nice day .\")\n",
    "                speak(\"Good bye sir, have a nice day .\")    \n",
    "                sys.exit()"
   ]
  },
  {
   "cell_type": "code",
   "execution_count": 33,
   "id": "ab9b3385",
   "metadata": {},
   "outputs": [],
   "source": [
    "# LIST OF FUNCTIONS\n",
    "\n",
    "# WIDGETS\n",
    "# 1 DATE \n",
    "# 2 TIME \n",
    "# 3 LOCATION FINDER\n",
    "# 4 FIND A PLACE IN GOOGLE MAP X\n",
    "# 5 WEATHER FORCAST \n",
    "\n",
    "# WEBROWSER\n",
    "# 6 OPEN CHROME \n",
    "# 7 OPEN GOOGLE AND SEARCH ON GOOGLE\n",
    "# 8 SEARCH IN WIKIPEDIA\n",
    "# 9 NEWS\n",
    "# 10 SOCIAL MEDIA APP/WEB OPENER\n",
    "# 11 INTERNET SPEED \n",
    "\n",
    "# OPERATING SYSTEM\n",
    "# 12 OPERATING SYSTEM APPS\n",
    "# 13 SYSTEM POWER OR BATTERY POWER\n",
    "# 14 OPERATING SYSTEM / SHUTDOWN,RESTART,SLEEP\n",
    "# 15 SYSTEM VOLUME \n",
    "# 16 SCREENSHOT\n",
    "# 17 EMPTY RECYCLE BIN\n",
    "\n",
    "# CAMERA\n",
    "# 18 OPEN CAMERA\n",
    "# 19 PHOTO CAPTURE\n",
    "# 20 VIDEO RECORDER \n",
    "# 21 CLOSE CAMERA\n",
    "\n",
    "# OTHERS\n",
    "# 22 SEND EMAILS X\n",
    "# 23 PLAY MUSIC X\n",
    "# 24 SET ALARM X\n",
    "# 25 TELL A JOKE \n",
    "# 26 PERSONAL QUESTIONS"
   ]
  }
 ],
 "metadata": {
  "kernelspec": {
   "display_name": "Python 3 (ipykernel)",
   "language": "python",
   "name": "python3"
  },
  "language_info": {
   "codemirror_mode": {
    "name": "ipython",
    "version": 3
   },
   "file_extension": ".py",
   "mimetype": "text/x-python",
   "name": "python",
   "nbconvert_exporter": "python",
   "pygments_lexer": "ipython3",
   "version": "3.9.13"
  },
  "vscode": {
   "interpreter": {
    "hash": "98eabb4ecb079f6ab10f8dee230a66b2a15b8304706421bed2d37b91eaa48f37"
   }
  }
 },
 "nbformat": 4,
 "nbformat_minor": 5
}
